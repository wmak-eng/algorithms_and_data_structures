{
 "cells": [
  {
   "cell_type": "markdown",
   "metadata": {},
   "source": [
    "# Coding Problems\n",
    "\n",
    "## Objective\n",
    "\n",
    "This assignment aims to demonstrate how to study a data structures or algorithms question in depth to prepare for an industry coding interview. Leetcode is a popular coding practice site that many use to practice for technical interviews. Like behavioral interviews, it's important to practice and keep your skills sharp.\n",
    "\n",
    "## Group Size\n",
    "\n",
    "Please complete this individually.\n",
    "\n",
    "## Part 1:\n",
    "\n",
    "_*You will be assigned one of three problems based of your first name. Enter your first name, in all lower case, execute the code below, and that will tell you your assigned problem. Include the output as part of your submission (do not clear the output). The problems are based-off problems from Leetcode.*_\n"
   ]
  },
  {
   "cell_type": "code",
   "execution_count": 4,
   "metadata": {},
   "outputs": [
    {
     "name": "stdout",
     "output_type": "stream",
     "text": [
      "1\n"
     ]
    }
   ],
   "source": [
    "import hashlib\n",
    "\n",
    "def hash_to_range(input_string: str) -> int:\n",
    "     hash_object = hashlib.sha256(input_string.encode())\n",
    "     hash_int = int(hash_object.hexdigest(), 16)\n",
    "     return (hash_int % 3) + 1\n",
    "input_string = \"whitney\"\n",
    "result = hash_to_range(input_string)\n",
    "print(result)\n"
   ]
  },
  {
   "cell_type": "markdown",
   "metadata": {},
   "source": [
    "<details>\n",
    "  <summary>Question 1</summary>\n",
    "\n",
    "  # Question One: Check Duplicates in Tree\n",
    "\n",
    "  Given the `root` of a binary tree, check whether it is contains a duplicate value. If a duplicate exists, return the duplicate value. If there are multiple duplicates, return the one with the closest distance to the root. If no duplicate exists, return -1.\n",
    "\n",
    "  ## Examples\n",
    "\n",
    "  ### Example 1\n",
    "\n",
    "  ![](./images/q1_ex1.png)\n",
    "\n",
    "  Input: `root = [1, 2, 2, 3, 5, 6, 7]` *What traversal method is this?*\n",
    "\n",
    "  Output: 2\n",
    "\n",
    "  ### Example 2\n",
    "\n",
    "  ![](./images/q1_ex2.png)\n",
    "\n",
    "  Input: `root = [1, 10, 2, 3, 10, 12, 12]`\n",
    "\n",
    "  Output: 10\n",
    "\n",
    "  ### Example 3\n",
    "\n",
    "  ![](./images/q1_ex3.png)\n",
    "\n",
    "  Input: `root = [10, 9, 8, 7]`\n",
    "\n",
    "  Output: -1\n",
    "\n",
    "</details>\n",
    "\n",
    "#### Starter Code for Question 1"
   ]
  },
  {
   "cell_type": "code",
   "execution_count": 50,
   "metadata": {},
   "outputs": [],
   "source": [
    "# Definition for a binary tree node.\n",
    "class TreeNode(object):\n",
    "    def __init__(self, val = 0, left = None, right = None):\n",
    "        self.val = val\n",
    "        self.left = left\n",
    "        self.right = right\n",
    "\n",
    "# Method to convert list into tree object\n",
    "def list_to_tree(treeList: list[int]) -> TreeNode:\n",
    "   \n",
    "   # Track tree length \n",
    "   index = len(treeList)\n",
    "\n",
    "   def build_tree(i: int=0) -> TreeNode:\n",
    "      # Empty list\n",
    "      if (index == 0):\n",
    "         return None\n",
    "      \n",
    "      # Don't go further than last item of the tree\n",
    "      if (i >= index):\n",
    "         return None\n",
    "      \n",
    "      # Set up the tree recursively\n",
    "      node = TreeNode(treeList[i])\n",
    "      node.left = build_tree(2*i +1)\n",
    "      node.right = build_tree(2*i +2)\n",
    "      \n",
    "      return node\n",
    "   \n",
    "   return build_tree()\n",
    "\n",
    "\n",
    "# Given a tree, print the first duplicate value\n",
    "def is_duplicate(root: TreeNode) -> int:\n",
    "   # Return -1 if empty\n",
    "   if (root == None):\n",
    "      return -1\n",
    "   \n",
    "   # Create a list to store visited values\n",
    "   visited = []\n",
    "\n",
    "   # Create a queue with the tree\n",
    "   queue = [root]\n",
    "\n",
    "   while queue:\n",
    "      # Pop the next tree node\n",
    "      node = queue.pop(0)\n",
    "      \n",
    "      # Return the duplicate value once found\n",
    "      if (node.val in visited):\n",
    "         return node.val\n",
    "\n",
    "      # If no duplicates, add the value into our visited list\n",
    "      visited.append(node.val)\n",
    "\n",
    "      # Insert leaf nodes into queue to check next layer\n",
    "      if (node.left != None):\n",
    "         queue.append(node.left)\n",
    "      if (node.right != None):\n",
    "         queue.append(node.right)\n",
    "\n",
    "   # Return -1 if no duplicates found above\n",
    "   return -1\n"
   ]
  },
  {
   "cell_type": "code",
   "execution_count": 54,
   "metadata": {},
   "outputs": [
    {
     "name": "stdout",
     "output_type": "stream",
     "text": [
      "2\n",
      "10\n",
      "-1\n"
     ]
    }
   ],
   "source": [
    "# Test examples on the code above\n",
    "root = list_to_tree([1,2,2,3,5,6,7])\n",
    "print(is_duplicate(root))\n",
    "\n",
    "root = list_to_tree([1,10,2,3,10,12,12])\n",
    "print(is_duplicate(root))\n",
    "\n",
    "root = list_to_tree([10,9,8,7])\n",
    "print(is_duplicate(root))\n"
   ]
  },
  {
   "cell_type": "markdown",
   "metadata": {},
   "source": [
    "<details>\n",
    "  <summary>Question 2</summary>\n",
    "\n",
    "  # Question Two: Path to Leaves\n",
    "\n",
    "  Given the `root` of a binary tree, return all root to leaf paths in any order.\n",
    "\n",
    "  ## Examples\n",
    "\n",
    "  ### Example 1\n",
    "\n",
    "  ![](./images/q1_ex1.png)\n",
    "\n",
    "  Input: `root = [1, 2, 2, 3, 5, 6, 7]` *What traversal method is this?*\n",
    "\n",
    "  Output: [[1, 2, 3], [1, 2, 5], [1, 2, 6], [1, 2, 7]]\n",
    "\n",
    "  ### Example 2\n",
    "\n",
    "  ![](./images/q1_ex3.png)\n",
    "\n",
    "  Input: `root = [10, 9, 7, 8]`\n",
    "\n",
    "  Output: [[10, 7], [10, 9, 8]]\n",
    "\n",
    "</details>\n",
    "\n",
    "#### Starter Code for Question 2"
   ]
  },
  {
   "cell_type": "code",
   "execution_count": null,
   "metadata": {},
   "outputs": [],
   "source": [
    "# Definition for a binary tree node.\n",
    "# class TreeNode(object):\n",
    "#     def __init__(self, val = 0, left = None, right = None):\n",
    "#         self.val = val\n",
    "#         self.left = left\n",
    "#         self.right = right\n",
    "def bt_path(root: TreeNode) -> List[List[int]]:\n",
    "  # TODO"
   ]
  },
  {
   "cell_type": "markdown",
   "metadata": {},
   "source": [
    "<details>\n",
    "  <summary>Question 3</summary>\n",
    "\n",
    "  # Question Three: Missing Number in Range\n",
    " \n",
    "  You are given a list containing `n` integers in the range `[0, n]`. Return a list of numbers that are missing from the range `[0, n]` of the array. If there is no missing number, return -1. Note, all the integers in the list may not be unique.\n",
    "  \n",
    "  ## Examples\n",
    "\n",
    "  ### Example 1\n",
    "\n",
    "  Input: `lst = [0, 2]`\n",
    "\n",
    "  Output: [1]\n",
    "\n",
    "  ### Example 2\n",
    "\n",
    "  Input: `lst = [5, 0, 1]`\n",
    "\n",
    "  Output: [2, 3, 4]\n",
    "\n",
    "  ### Example 3\n",
    "\n",
    "  Input: `lst = [6, 8, 2, 3, 5, 7, 0, 1, 10]`\n",
    "\n",
    "  Output: [4, 9]\n",
    "\n",
    "</details>\n",
    "\n",
    "#### Starter Code for Question 3\n"
   ]
  },
  {
   "cell_type": "code",
   "execution_count": null,
   "metadata": {},
   "outputs": [],
   "source": [
    "def missing_num(nums: List) -> int:\n",
    "  # TODO"
   ]
  },
  {
   "cell_type": "markdown",
   "metadata": {},
   "source": [
    "\n",
    "## Part 2:\n",
    "\n",
    "-   Paraphrase the problem in your own words\n"
   ]
  },
  {
   "cell_type": "markdown",
   "metadata": {},
   "source": [
    "The problem is asking for the first duplicate value that appears in the binary tree, closest to the root (first) node. If there are no duplicates, then a default of -1 is returned as the value."
   ]
  },
  {
   "cell_type": "markdown",
   "metadata": {},
   "source": [
    "- In this .ipynb file, there are examples that illustrate how the code should work (the examples provided above). Create 2 new examples for the question you have been assigned, that demonstrate you understand the problem. For question 1 and 2, you don't need to create the tree demonstration, just the input and output.\n"
   ]
  },
  {
   "cell_type": "markdown",
   "metadata": {},
   "source": [
    "*Example 1*\n",
    "Input: root = [1,7,7,2,2,5,5]\n",
    "Output: 7\n",
    "\n",
    "*Example 2*\n",
    "Input: root = [10,9,8,7,1,2,3,4,5,6]\n",
    "Output: -1"
   ]
  },
  {
   "cell_type": "markdown",
   "metadata": {},
   "source": [
    "\n",
    "-   Code the solution to your assigned problem in Python (code chunk). Try to find the best time and space complexity solution!\n"
   ]
  },
  {
   "cell_type": "code",
   "execution_count": 49,
   "metadata": {},
   "outputs": [],
   "source": [
    "# Definition for a binary tree node.\n",
    "class TreeNode(object):\n",
    "    def __init__(self, val = 0, left = None, right = None):\n",
    "        self.val = val\n",
    "        self.left = left\n",
    "        self.right = right\n",
    "\n",
    "# Method to convert list into tree object\n",
    "def list_to_tree(treeList: list[int]) -> TreeNode:\n",
    "   \n",
    "   # Track tree length \n",
    "   index = len(treeList)\n",
    "\n",
    "   def build_tree(i: int=0) -> TreeNode:\n",
    "      # Empty list\n",
    "      if (index == 0):\n",
    "         return None\n",
    "      \n",
    "      # Don't go further than last item of the tree\n",
    "      if (i >= index):\n",
    "         return None\n",
    "      \n",
    "      # Set up the tree recursively\n",
    "      node = TreeNode(treeList[i])\n",
    "      node.left = build_tree(2*i +1)\n",
    "      node.right = build_tree(2*i +2)\n",
    "      \n",
    "      return node\n",
    "   \n",
    "   return build_tree()\n",
    "\n",
    "\n",
    "# Given a tree, print the first duplicate value\n",
    "def is_duplicate(root: TreeNode) -> int:\n",
    "   # Return -1 if empty\n",
    "   if (root == None):\n",
    "      return -1\n",
    "   \n",
    "   # Create a list to store visited values\n",
    "   visited = []\n",
    "\n",
    "   # Create a queue with the tree\n",
    "   queue = [root]\n",
    "\n",
    "   while queue:\n",
    "      # Pop the next tree node\n",
    "      node = queue.pop(0)\n",
    "      \n",
    "      # Return the duplicate value once found\n",
    "      if (node.val in visited):\n",
    "         return node.val\n",
    "\n",
    "      # If no duplicates, add the value into our visited list\n",
    "      visited.append(node.val)\n",
    "\n",
    "      # Insert leaf nodes into queue to check next layer\n",
    "      if (node.left != None):\n",
    "         queue.append(node.left)\n",
    "      if (node.right != None):\n",
    "         queue.append(node.right)\n",
    "\n",
    "   # Return -1 if no duplicates found above\n",
    "   return -1\n"
   ]
  },
  {
   "cell_type": "markdown",
   "metadata": {},
   "source": [
    "\n",
    "-   Explain why your solution works\n"
   ]
  },
  {
   "cell_type": "markdown",
   "metadata": {},
   "source": [
    "My solution first takes the provided list and turns it into a Tree structure. Afterwards, I use breadth-first search implemented with a queue to inspect the tree in order to find the nearest node that is a duplicated value. The visited values are stored in a list as the tree nodes are pushed into the queue, so once the first duplicated value is popped from the queue, it can be found in the visited list and returned immediately. Once all nodes are visited with no duplicates found, it will default to returning -1."
   ]
  },
  {
   "cell_type": "markdown",
   "metadata": {},
   "source": [
    "\n",
    "-   Explain the problem’s time and space complexity\n"
   ]
  },
  {
   "cell_type": "markdown",
   "metadata": {},
   "source": [
    "*Time Complexity*\n",
    "O(n+e)\n",
    "This implements BFS using a single while loop with a queue that would go through each n node and edge e of the tree once in the worst case, so the run time complexity is O(n+e). \n",
    "\n",
    "*Space Complexity*\n",
    "O(n)\n",
    "In the worst case scenario, we would inspect and store every value of the tree in a visited list, so the space complexity is O(n)."
   ]
  },
  {
   "cell_type": "markdown",
   "metadata": {},
   "source": [
    "\n",
    "-   Explain the thinking to an alternative solution (no coding required, but a classmate reading this should be able to code it up based off your text)\n"
   ]
  },
  {
   "cell_type": "markdown",
   "metadata": {},
   "source": [
    "An alternative solution can be to traverse the whole tree first and then use a hash table / dictionary to store each of the node's value and the distance from the root. Then use a for loop to iterate over the hash table to find duplicate values. Then compare the distances for the duplicate values to see which one has the smallest distance from the root and return that value. If no duplicates found, then return -1 as default."
   ]
  },
  {
   "cell_type": "markdown",
   "metadata": {},
   "source": [
    "## Evaluation Criteria\n",
    "\n",
    "-   Problem is accurately stated\n",
    "\n",
    "-   Two examples are correct and easily understandable\n",
    "\n",
    "-   Correctness, time, and space complexity of the coding solution\n",
    "\n",
    "-   Clarity in explaining why the solution works, its time and space complexity\n",
    "\n",
    "-   Clarity in the proposal to the alternative solution"
   ]
  },
  {
   "cell_type": "markdown",
   "metadata": {},
   "source": [
    "## Submission Information\n",
    "\n",
    "🚨 **Please review our [Assignment Submission Guide](https://github.com/UofT-DSI/onboarding/blob/main/onboarding_documents/submissions.md)** 🚨 for detailed instructions on how to format, branch, and submit your work. Following these guidelines is crucial for your submissions to be evaluated correctly.\n",
    "\n",
    "### Submission Parameters:\n",
    "* Submission Due Date: `HH:MM AM/PM - DD/MM/YYYY`\n",
    "* The branch name for your repo should be: `assignment-1`\n",
    "* What to submit for this assignment:\n",
    "    * This Jupyter Notebook (assignment_1.ipynb) should be populated and should be the only change in your pull request.\n",
    "* What the pull request link should look like for this assignment: `https://github.com/<your_github_username>/algorithms_and_data_structures/pull/<pr_id>`\n",
    "    * Open a private window in your browser. Copy and paste the link to your pull request into the address bar. Make sure you can see your pull request properly. This helps the technical facilitator and learning support staff review your submission easily.\n",
    "\n",
    "Checklist:\n",
    "- [ ] Create a branch called `assignment-1`.\n",
    "- [ ] Ensure that the repository is public.\n",
    "- [ ] Review [the PR description guidelines](https://github.com/UofT-DSI/onboarding/blob/main/onboarding_documents/submissions.md#guidelines-for-pull-request-descriptions) and adhere to them.\n",
    "- [ ] Verify that the link is accessible in a private browser window.\n",
    "\n",
    "If you encounter any difficulties or have questions, please don't hesitate to reach out to our team via our Slack at `#cohort-3-help`. Our Technical Facilitators and Learning Support staff are here to help you navigate any challenges."
   ]
  }
 ],
 "metadata": {
  "kernelspec": {
   "display_name": "dsi_participant",
   "language": "python",
   "name": "python3"
  },
  "language_info": {
   "codemirror_mode": {
    "name": "ipython",
    "version": 3
   },
   "file_extension": ".py",
   "mimetype": "text/x-python",
   "name": "python",
   "nbconvert_exporter": "python",
   "pygments_lexer": "ipython3",
   "version": "3.9.20"
  }
 },
 "nbformat": 4,
 "nbformat_minor": 2
}
